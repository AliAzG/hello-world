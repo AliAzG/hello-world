{
  "nbformat": 4,
  "nbformat_minor": 0,
  "metadata": {
    "colab": {
      "name": "tweepy_test.ipynb",
      "version": "0.3.2",
      "provenance": []
    },
    "kernelspec": {
      "name": "python3",
      "display_name": "Python 3"
    }
  },
  "cells": [
    {
      "cell_type": "markdown",
      "metadata": {
        "id": "view-in-github",
        "colab_type": "text"
      },
      "source": [
        "[View in Colaboratory](https://colab.research.google.com/github/AliAzG/hello-world/blob/master/tweepy_test.ipynb)"
      ]
    },
    {
      "metadata": {
        "id": "UYIrryP3CbJh",
        "colab_type": "code",
        "colab": {}
      },
      "cell_type": "code",
      "source": [
        "!pip install tweepy"
      ],
      "execution_count": 0,
      "outputs": []
    },
    {
      "metadata": {
        "id": "HC55SK4cCrfW",
        "colab_type": "code",
        "colab": {}
      },
      "cell_type": "code",
      "source": [
        "import tweepy\n",
        "import pandas as pd\n",
        "import numpy as np\n",
        "from sklearn.feature_extraction.text import CountVectorizer\n",
        "from sklearn.feature_extraction.text import TfidfVectorizer\n",
        "from sklearn.feature_extraction.text import HashingVectorizer\n",
        "import matplotlib.pyplot as plt"
      ],
      "execution_count": 0,
      "outputs": []
    },
    {
      "metadata": {
        "id": "SMOkf0l7DJqP",
        "colab_type": "code",
        "colab": {}
      },
      "cell_type": "code",
      "source": [
        "consumer_key = \"PGQ3msseu8hfPWMrCAH9gNi4T\"\n",
        "consumer_secret = \"3QlV9hPxAMDnKUIUrEn4SdISDf7PjIjJ1tZ2DTUPVz8zMbtcAI\"\n",
        "\n",
        "auth = tweepy.OAuthHandler(consumer_key=consumer_key, consumer_secret=consumer_secret)\n",
        "api = tweepy.API(auth)"
      ],
      "execution_count": 0,
      "outputs": []
    },
    {
      "metadata": {
        "id": "A5sZ3gPoDo9w",
        "colab_type": "code",
        "colab": {}
      },
      "cell_type": "code",
      "source": [
        "results = api.search(q=\"دلار\")"
      ],
      "execution_count": 0,
      "outputs": []
    },
    {
      "metadata": {
        "id": "decS2RbJDu9P",
        "colab_type": "code",
        "colab": {}
      },
      "cell_type": "code",
      "source": [
        "len(results)\n",
        "print(results[1].text)"
      ],
      "execution_count": 0,
      "outputs": []
    },
    {
      "metadata": {
        "id": "QbsO9-dzEIym",
        "colab_type": "code",
        "colab": {}
      },
      "cell_type": "code",
      "source": [
        "def print_tweet(tweet):\n",
        "  print(\"@{} - {} - {}\".format(tweet.user.screen_name, tweet.user.name, tweet.created_at))\n",
        "  print(tweet.text)\n",
        "tweet=results[8]\n",
        "print_tweet(tweet)"
      ],
      "execution_count": 0,
      "outputs": []
    },
    {
      "metadata": {
        "id": "UZMuswKuGi31",
        "colab_type": "code",
        "colab": {}
      },
      "cell_type": "code",
      "source": [
        "tweet = results[8]\n",
        "for param in dir(tweet):\n",
        "  if not param.startswith(\"_\"):\n",
        "    print(\"{}:{}\".format(param, eval('tweet.'+param)))"
      ],
      "execution_count": 0,
      "outputs": []
    },
    {
      "metadata": {
        "id": "Q90dPV-ZH_PX",
        "colab_type": "code",
        "colab": {}
      },
      "cell_type": "code",
      "source": [
        "user = tweet.author\n",
        "for param in dir(user):\n",
        "  if not param.startswith(\"_\"):\n",
        "    print('{} - {}'.format(param, eval('user.'+param)))"
      ],
      "execution_count": 0,
      "outputs": []
    },
    {
      "metadata": {
        "id": "2GZapHRLOcZA",
        "colab_type": "code",
        "colab": {}
      },
      "cell_type": "code",
      "source": [
        "results = []\n",
        "for tweet in tweepy.Cursor(api.search, q='مادرید').items(2000):\n",
        "  results.append(tweet)\n",
        "print(len(results))"
      ],
      "execution_count": 0,
      "outputs": []
    },
    {
      "metadata": {
        "id": "CxudcpAJP4Kc",
        "colab_type": "code",
        "colab": {}
      },
      "cell_type": "code",
      "source": [
        "def process_results(results):\n",
        "  id_list = [tweet.id for tweet in results]\n",
        "  data_set = pd.DataFrame(id_list, columns=['id'])\n",
        "  \n",
        "  data_set['text'] = [tweet.text for tweet in results]\n",
        "  data_set['created_at'] = [tweet.created_at for tweet in results]\n",
        "  data_set['retweet_count'] = [tweet.retweet_count for tweet in results]\n",
        "  data_set['favorite_count'] = [tweet.favorite_count for tweet in results]\n",
        "  data_set['source'] = [tweet.source for tweet in results]\n",
        "  \n",
        "  data_set['user_id'] = [tweet.author.id for tweet in results]\n",
        "  data_set['user_screen_name'] = [tweet.author.screen_name for tweet in results]\n",
        "  data_set['user_name'] = [tweet.author.name for tweet in results]\n",
        "  data_set['user_created_at'] = [tweet.author.created_at for tweet in results] \n",
        "  data_set['user_description'] = [tweet.author.description for tweet in results]\n",
        "  data_set['user_followers_count'] = [tweet.author.followers_count for tweet in results]\n",
        "  data_set['user_friends_count'] = [tweet.author.friends_count for tweet in results]\n",
        "  data_set['user_location'] = [tweet.author.location for tweet in results]\n",
        "  \n",
        "  return data_set\n",
        "dollar_set = process_results(dollar)\n",
        "war_set = process_results(war)\n",
        "football_set = process_results(football)"
      ],
      "execution_count": 0,
      "outputs": []
    },
    {
      "metadata": {
        "id": "cvL7jkhIhLQi",
        "colab_type": "code",
        "colab": {}
      },
      "cell_type": "code",
      "source": [
        "data_set.head(5)"
      ],
      "execution_count": 0,
      "outputs": []
    },
    {
      "metadata": {
        "id": "mnk7tYxhhbVa",
        "colab_type": "code",
        "colab": {}
      },
      "cell_type": "code",
      "source": [
        "data_set.tail(5)"
      ],
      "execution_count": 0,
      "outputs": []
    },
    {
      "metadata": {
        "id": "dPw9Y7-lhgT7",
        "colab_type": "code",
        "colab": {}
      },
      "cell_type": "code",
      "source": [
        "sources = data_set['source'].value_counts()[:5][::-1]\n",
        "plt.barh(range(len(sources)), sources.values)\n",
        "plt.yticks(np.arange(len(sources)) + 0.4, sources.index)\n",
        "plt.xlabel('Persian Tweets', fontsize=20)\n",
        "plt.show()"
      ],
      "execution_count": 0,
      "outputs": []
    },
    {
      "metadata": {
        "id": "SrNK4mKyl-oC",
        "colab_type": "code",
        "colab": {}
      },
      "cell_type": "code",
      "source": [
        "from google.colab import files\n",
        "\n",
        "data_set.to_csv('data_set_football.csv', encoding='utf-8')\n",
        "files.download('data_set_football.csv')"
      ],
      "execution_count": 0,
      "outputs": []
    },
    {
      "metadata": {
        "id": "zDTn1_qov-KE",
        "colab_type": "code",
        "colab": {}
      },
      "cell_type": "code",
      "source": [
        "from google.colab import files\n",
        "uploaded = files.upload()"
      ],
      "execution_count": 0,
      "outputs": []
    },
    {
      "metadata": {
        "id": "D0_PhERywXTW",
        "colab_type": "code",
        "colab": {}
      },
      "cell_type": "code",
      "source": [
        "dollar_set = pd.read_csv('data_set_dollar.csv')\n",
        "war_set = pd.read_csv('data_set_war (1).csv')\n",
        "football_set = pd.read_csv('data_set_football (1).csv')"
      ],
      "execution_count": 0,
      "outputs": []
    },
    {
      "metadata": {
        "id": "MHRkrK5GwuPu",
        "colab_type": "code",
        "colab": {}
      },
      "cell_type": "code",
      "source": [
        "frames = [dollar_set, war_set, football_set]\n",
        "dataset = pd.concat(frames)\n",
        "print(len(dataset))"
      ],
      "execution_count": 0,
      "outputs": []
    },
    {
      "metadata": {
        "id": "d1Y3sVr4xIfV",
        "colab_type": "code",
        "colab": {}
      },
      "cell_type": "code",
      "source": [
        "dataset = dataset.sample(frac=1).reset_index(drop=True)\n",
        "dataset.head(20)"
      ],
      "execution_count": 0,
      "outputs": []
    },
    {
      "metadata": {
        "id": "qHWKnNm0xzbg",
        "colab_type": "code",
        "colab": {}
      },
      "cell_type": "code",
      "source": [
        "dataset.to_csv('dataset.csv', encoding='utf-8')\n",
        "files.download('dataset.csv')"
      ],
      "execution_count": 0,
      "outputs": []
    },
    {
      "metadata": {
        "id": "HwkJDYfx0BmV",
        "colab_type": "code",
        "colab": {
          "base_uri": "https://localhost:8080/",
          "height": 34
        },
        "outputId": "73b675d5-3b2a-4690-e87f-8f395763e8dd"
      },
      "cell_type": "code",
      "source": [
        "text = dataset.head(1).text\n",
        "vectorizer = CountVectorizer()\n",
        "vectorizer.fit(text)\n",
        "te=vectorizer.vocabulary_\n",
        "vector = vectorizer.transform(text)\n",
        "vector_shape = vector.shape\n",
        "vector_list = vector.toarray()\n",
        "te"
      ],
      "execution_count": 130,
      "outputs": [
        {
          "output_type": "execute_result",
          "data": {
            "text/plain": [
              "{'اسپانیا': 0, 'خبر': 1, 'در': 2, 'دلار': 3, 'شد': 4, 'فوری': 5, 'گران': 6}"
            ]
          },
          "metadata": {
            "tags": []
          },
          "execution_count": 130
        }
      ]
    },
    {
      "metadata": {
        "id": "DmgzOYBS1dEV",
        "colab_type": "code",
        "colab": {
          "base_uri": "https://localhost:8080/",
          "height": 54
        },
        "outputId": "b00d0f54-8908-4271-d67a-b008c1132f64"
      },
      "cell_type": "code",
      "source": [
        "text = [\"My name is Ali Aminzadeh Gohari and my job is programming and my company is virascience and I love my job\"]\n",
        "vectorizer = CountVectorizer()\n",
        "vectorizer.fit(text)\n",
        "te=vectorizer.vocabulary_\n",
        "vector = vectorizer.transform(text)\n",
        "vector_shape = vector.shape\n",
        "vector_list = vector.toarray()\n",
        "text2 = [\"the puppy\"]\n",
        "vector2 = vectorizer.transform(text2)\n",
        "print(te)"
      ],
      "execution_count": 126,
      "outputs": [
        {
          "output_type": "stream",
          "text": [
            "{'my': 8, 'name': 9, 'is': 5, 'ali': 0, 'aminzadeh': 1, 'gohari': 4, 'and': 2, 'job': 6, 'programming': 10, 'company': 3, 'virascience': 11, 'love': 7}\n"
          ],
          "name": "stdout"
        }
      ]
    },
    {
      "metadata": {
        "id": "kgyYupLF1f8g",
        "colab_type": "code",
        "colab": {
          "base_uri": "https://localhost:8080/",
          "height": 68
        },
        "outputId": "c2761707-c705-4864-ed29-f4a7386e363c"
      },
      "cell_type": "code",
      "source": [
        "text = [\"The quick brown fox jumped over the lazy dog.\",\n",
        "\t\t\"The dog.\",\n",
        "\t\t\"The fox\"]\n",
        "vectorizer = TfidfVectorizer()\n",
        "vectorizer.fit(text)\n",
        "vocab = vectorizer.vocabulary_\n",
        "idf = vectorizer.idf_\n",
        "vector = vectorizer.transform([text[0]])\n",
        "print(vocab)\n",
        "idf"
      ],
      "execution_count": 137,
      "outputs": [
        {
          "output_type": "stream",
          "text": [
            "{'the': 7, 'quick': 6, 'brown': 0, 'fox': 2, 'jumped': 3, 'over': 5, 'lazy': 4, 'dog': 1}\n"
          ],
          "name": "stdout"
        },
        {
          "output_type": "execute_result",
          "data": {
            "text/plain": [
              "array([1.69314718, 1.28768207, 1.28768207, 1.69314718, 1.69314718,\n",
              "       1.69314718, 1.69314718, 1.        ])"
            ]
          },
          "metadata": {
            "tags": []
          },
          "execution_count": 137
        }
      ]
    }
  ]
}